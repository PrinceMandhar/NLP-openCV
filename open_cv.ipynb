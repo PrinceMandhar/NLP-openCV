{
 "cells": [
  {
   "cell_type": "code",
   "execution_count": null,
   "id": "095ca3b3-5993-4ecc-9816-ec21a4034a29",
   "metadata": {},
   "outputs": [],
   "source": [
    "import cv2\n",
    "cap = cv2.VideoCapture(0)\n",
    "\n",
    "while (True):\n",
    "    #capute frame by frame \n",
    "    ret,frame = cap.read()\n",
    "\n",
    "    # our operation on the frame come here \n",
    "    gray = cv2.cvtColor(frame, cv2.COLOR_BGRA2GRAY)\n",
    "\n",
    "    #dispplay the resulting frame\n",
    "    cv2.imshow('frame',gray)\n",
    "    if cv2.waitKey(1) & 0xFF == ord('q'):\n",
    "        break\n",
    "\n",
    "cap.release()\n",
    "\n",
    "cv2.destroyAllWindows()\n"
   ]
  },
  {
   "cell_type": "code",
   "execution_count": null,
   "id": "4fa6a1f3-5925-4c24-9f26-86863b968686",
   "metadata": {},
   "outputs": [],
   "source": [
    "import cv2\n",
    "cap = cv2.VideoCapture(0)\n",
    "\n",
    "width = int(cap.get(cv2.CAP_PROP_FRAME_WIDTH))\n",
    "height = int(cap.get(cv2.CAP_PROP_FRAME_HEIGHT))\n",
    "\n",
    "writer = cv2.VideoW"
   ]
  },
  {
   "cell_type": "code",
   "execution_count": null,
   "id": "7fc5579c-8084-4baf-aedf-1c16c4e9921c",
   "metadata": {},
   "outputs": [],
   "source": [
    "import cv2\n",
    "#load the cascode\n",
    "face_cascade = cv2.CascadeClassifier()\n",
    "\n",
    "eye_cascade = cv2.CascadeClassifier()\n",
    "\n",
    "\n",
    "#to caputer video from webcame\n",
    "\n",
    "\n",
    "cap = cv2.VideoCapture(0)\n",
    "\n"
   ]
  },
  {
   "cell_type": "code",
   "execution_count": null,
   "id": "4f733090-e903-4d14-a97c-d7662a6b5d17",
   "metadata": {},
   "outputs": [],
   "source": []
  },
  {
   "cell_type": "code",
   "execution_count": null,
   "id": "31ed1fa9-ada3-4232-86b1-8a07667b9534",
   "metadata": {},
   "outputs": [],
   "source": []
  },
  {
   "cell_type": "code",
   "execution_count": null,
   "id": "86ff7c9c-5912-4aa4-a7a4-7620ee1dbd8e",
   "metadata": {},
   "outputs": [],
   "source": []
  },
  {
   "cell_type": "code",
   "execution_count": null,
   "id": "0cb50274-c04c-48ca-97ea-c32796d78f2d",
   "metadata": {},
   "outputs": [],
   "source": []
  },
  {
   "cell_type": "code",
   "execution_count": null,
   "id": "93177a00-5282-465e-bed2-ea1bad2e11b5",
   "metadata": {},
   "outputs": [],
   "source": []
  },
  {
   "cell_type": "code",
   "execution_count": null,
   "id": "b65ebc3e-eab0-4987-a365-2df7bbb660e0",
   "metadata": {},
   "outputs": [],
   "source": []
  }
 ],
 "metadata": {
  "kernelspec": {
   "display_name": "Python 3 (ipykernel)",
   "language": "python",
   "name": "python3"
  },
  "language_info": {
   "codemirror_mode": {
    "name": "ipython",
    "version": 3
   },
   "file_extension": ".py",
   "mimetype": "text/x-python",
   "name": "python",
   "nbconvert_exporter": "python",
   "pygments_lexer": "ipython3",
   "version": "3.11.7"
  }
 },
 "nbformat": 4,
 "nbformat_minor": 5
}
